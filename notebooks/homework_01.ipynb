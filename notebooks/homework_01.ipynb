{
 "cells": [
  {
   "cell_type": "markdown",
   "source": [
    "# Homework 01"
   ],
   "metadata": {
    "collapsed": false
   }
  },
  {
   "cell_type": "code",
   "execution_count": 17,
   "outputs": [],
   "source": [
    "import numpy as np\n",
    "import numpy.typing as npt"
   ],
   "metadata": {
    "collapsed": false
   }
  },
  {
   "cell_type": "code",
   "execution_count": 18,
   "outputs": [],
   "source": [
    "matrix = np.array([[0, 1, -1], [-1, 0, 1], [1, -1, 0]])\n",
    "row_strategy = np.array([[0.1, 0.2, 0.7]])\n",
    "column_strategy = np.array([[0.3, 0.2, 0.5]]).transpose()"
   ],
   "metadata": {
    "collapsed": false
   }
  },
  {
   "cell_type": "markdown",
   "source": [
    "## 2) Strategy Pair Evaluation\n",
    "\n",
    "- Given mixed strategies of two players and two utility matrices, compute value for each player.\n",
    "- Do the same, but for zero-sum games. This time, your function should only take a single matrix (as the other one is implied)"
   ],
   "metadata": {
    "collapsed": false
   },
   "outputs": [
    {
     "ename": "SyntaxError",
     "evalue": "invalid syntax (2491343777.py, line 3)",
     "output_type": "error",
     "traceback": [
      "\u001B[0;36m  Cell \u001B[0;32mIn [1], line 3\u001B[0;36m\u001B[0m\n\u001B[0;31m    - Given mixed strategies of two players and two utility matrices, compute value for each player.\u001B[0m\n\u001B[0m            ^\u001B[0m\n\u001B[0;31mSyntaxError\u001B[0m\u001B[0;31m:\u001B[0m invalid syntax\n"
     ]
    }
   ],
   "execution_count": 1
  },
  {
   "cell_type": "code",
   "execution_count": 19,
   "outputs": [],
   "source": [
    "def evaluate(row_strategy: npt.NDArray,\n",
    "             column_strategy: npt.NDArray,\n",
    "             row_matrix: npt.NDArray = None,\n",
    "             column_matrix: npt.NDArray = None,\n",
    "             matrix: npt.NDArray = None\n",
    "             ) -> tuple[np.double, np.double]:\n",
    "    \"\"\"\n",
    "    Given matrix of strategies of two players and two utility matrices, compute\n",
    "    value for each player.\n",
    "\n",
    "    Args:\n",
    "        row_strategy: Strategy of the row player\n",
    "        row_matrix: Utility matrix for the row player\n",
    "        column_strategy: Strategy for the column player\n",
    "        column_matrix: Utility matrix for the row player\n",
    "        matrix: Utility matrix for both players (row player). If this matrix\n",
    "                is supplied, game is assumed to be zero sum.\n",
    "\n",
    "    Returns:\n",
    "        Values (row_value, column_value) of the utility function for both\n",
    "        players.\n",
    "\n",
    "    \"\"\"\n",
    "\n",
    "    assert (\n",
    "            row_strategy is not None and\n",
    "            column_strategy is not None and\n",
    "            matrix is not None\n",
    "    )\n",
    "\n",
    "    # Normalize vector shapes\n",
    "    row_strategy.reshape(1, -1)\n",
    "    column_strategy.reshape(-1, 1)\n",
    "\n",
    "    if matrix is not None:\n",
    "        row_matrix = matrix\n",
    "        column_matrix = -matrix\n",
    "\n",
    "    assert row_matrix is not None or column_matrix is not None\n",
    "    # Assume game is zero-sum if one matrix is not supplied\n",
    "    if row_matrix is None:\n",
    "        row_matrix = -column_matrix\n",
    "    elif column_matrix is None:\n",
    "        column_matrix = -row_matrix\n",
    "\n",
    "    row_value = (row_strategy @ row_matrix @ column_strategy).item()\n",
    "    column_value = (row_strategy @ column_matrix @ column_strategy).item()\n",
    "\n",
    "    return row_value, column_value"
   ],
   "metadata": {
    "collapsed": false
   }
  },
  {
   "cell_type": "code",
   "execution_count": 20,
   "outputs": [
    {
     "data": {
      "text/plain": "(0.07999999999999997, -0.07999999999999997)"
     },
     "execution_count": 20,
     "metadata": {},
     "output_type": "execute_result"
    }
   ],
   "source": [
    "evaluate(matrix=matrix, column_strategy=column_strategy,\n",
    "         row_strategy=row_strategy)"
   ],
   "metadata": {
    "collapsed": false
   }
  },
  {
   "cell_type": "markdown",
   "source": [
    "# 3) Best Response Calculation\n",
    "\n",
    "- Given a mixed strategy of a player and a utility matrix, compute opponent's best responding strategy"
   ],
   "metadata": {
    "collapsed": false
   }
  },
  {
   "cell_type": "markdown",
   "source": [
    "Let $x \\in \\Pi_1$ be the strategy of the row player. We want to find $y*_1 \\in \\Pi_2$ such, that:\n",
    "$$\n",
    "\\begin{align*}\n",
    "y^* = \\arg\\max_{y' \\in \\Pi_2}{u_1(x, y')}\n",
    "\\end{align*}\n",
    "$$\n",
    "\n",
    "Let $A = \\mathbb{R}^{|A_1| \\times |A_2|}$ be the utility matrix of the column player. We have\n",
    "\\begin{align*}\n",
    "u_1(x, y) = \\sum_{(a_1, a_2) \\in a} x(a_1)y(a_2)u_i(a_1, a_2) = x^T A y\n",
    "\\end{align*}\n",
    "\n",
    "We show that there exists a _pure strategy_ $e_j$ such that\n",
    "$$\n",
    "x^T A e_j = x^T A y^*\n",
    "$$\n",
    "\n",
    "First notice that surely $x^T A e_j \\le x^T A y^*$ for every $j$. Now we show that there must be $j$ such that this inequality holds with equality. For contradiction suppose that this is not the case. Then\n",
    "$$\n",
    "    x^T A y^*\n",
    "    = x^T A \\left(\\sum_j y_j^* e_j \\right)\n",
    "    = \\sum_j y_j^* x^T A  e_j\n",
    "    < x A y^* \\sum_j y_j^*\n",
    "    = x A y^*\n",
    "$$\n",
    "which is a contradiction.\n"
   ],
   "metadata": {
    "collapsed": false
   }
  },
  {
   "cell_type": "code",
   "execution_count": 21,
   "outputs": [],
   "source": [
    "def best_response(matrix, row_strategy=None, column_strategy=None):\n",
    "    \"\"\"\n",
    "    Given a mixed strategy of a player and a utility matrix, compute\n",
    "    opponent's best responding strategy.\n",
    "\n",
    "    Note: Assumes game is zero-sum and matrix is given as utility matrix for the\n",
    "     row player.\n",
    "\n",
    "    Note: Only one of the row_strategy and column_strategy should be\n",
    "    specified.\n",
    "\n",
    "    Args:\n",
    "        matrix: Utility matrix (for row player).\n",
    "        row_strategy: Strategy of the row player (default=None).\n",
    "        column_strategy: Strategy for the column player (default=None).\n",
    "\n",
    "    Returns:\n",
    "        Best response strategy of the column player.\n",
    "\n",
    "    \"\"\"\n",
    "\n",
    "    assert row_strategy is not None or column_strategy is not None\n",
    "\n",
    "    pi_2 = None\n",
    "    if row_strategy is not None:\n",
    "        matrix = -matrix.T\n",
    "        pi_2 = row_strategy.reshape(-1, 1)\n",
    "\n",
    "    if column_strategy is not None:\n",
    "        pi_2 = column_strategy.reshape(-1, 1)\n",
    "\n",
    "    m = matrix.shape[0]\n",
    "    j = np.argmax(matrix @ pi_2)\n",
    "    br = np.zeros(m, dtype=np.float64)\n",
    "    br[j] = 1\n",
    "\n",
    "    return br"
   ],
   "metadata": {
    "collapsed": false
   }
  },
  {
   "cell_type": "code",
   "execution_count": 22,
   "outputs": [
    {
     "data": {
      "text/plain": "1"
     },
     "execution_count": 22,
     "metadata": {},
     "output_type": "execute_result"
    }
   ],
   "source": [
    "(matrix @ column_strategy).reshape(-1).argmax()"
   ],
   "metadata": {
    "collapsed": false
   }
  },
  {
   "cell_type": "code",
   "execution_count": 23,
   "outputs": [
    {
     "data": {
      "text/plain": "(-0.6, 0.6)"
     },
     "execution_count": 23,
     "metadata": {},
     "output_type": "execute_result"
    }
   ],
   "source": [
    "br_col = best_response(matrix=matrix, row_strategy=row_strategy)\n",
    "evaluate(matrix=matrix, column_strategy=br_col, row_strategy=row_strategy)"
   ],
   "metadata": {
    "collapsed": false
   }
  },
  {
   "cell_type": "code",
   "execution_count": 24,
   "outputs": [
    {
     "data": {
      "text/plain": "(0.2, -0.2)"
     },
     "execution_count": 24,
     "metadata": {},
     "output_type": "execute_result"
    }
   ],
   "source": [
    "br_row = best_response(matrix=matrix, column_strategy=column_strategy)\n",
    "evaluate(matrix=matrix, column_strategy=column_strategy, row_strategy=br_row)"
   ],
   "metadata": {
    "collapsed": false
   }
  },
  {
   "cell_type": "markdown",
   "source": [
    "# 4) Best Response Value Calculation\n",
    "\n",
    "- Given a mixed strategy of a player and a utility matrix, compute agent's value when facing best-responding opponent."
   ],
   "metadata": {
    "collapsed": false
   }
  },
  {
   "cell_type": "code",
   "execution_count": 25,
   "outputs": [],
   "source": [
    "def best_response_value_row(matrix, row_strategy):\n",
    "    \"\"\"\n",
    "    Compute the value of the row player when facing best responding player.\n",
    "\n",
    "    Note: Assumes game is zero-sum and matrix is given as utility matrix for the\n",
    "     row player.\n",
    "\n",
    "    Args:\n",
    "        matrix: Utility matrix.\n",
    "        row_strategy: Strategy of the row player.\n",
    "\n",
    "    Returns:\n",
    "        Value of the row player when facing best responding opponent.\n",
    "\n",
    "    \"\"\"\n",
    "\n",
    "    brc = best_response(matrix=matrix, row_strategy=row_strategy)\n",
    "    return evaluate(\n",
    "        matrix=matrix,\n",
    "        row_strategy=row_strategy,\n",
    "        column_strategy=brc\n",
    "    )[0]\n",
    "\n",
    "\n",
    "def best_response_value_column(matrix, column_strategy):\n",
    "    \"\"\"\n",
    "    Compute the value of the column player when facing best responding player.\n",
    "\n",
    "    Note: Assumes game is zero-sum and matrix is given as utility matrix for the\n",
    "     row player.\n",
    "\n",
    "    Args:\n",
    "        matrix: Utility matrix.\n",
    "        column_strategy: Strategy of the column player.\n",
    "\n",
    "    Returns:\n",
    "        Value of the column player when facing best responding opponent.\n",
    "\n",
    "    \"\"\"\n",
    "\n",
    "    brr = best_response(matrix=matrix, column_strategy=column_strategy)\n",
    "    return evaluate(\n",
    "        matrix=matrix,\n",
    "        row_strategy=brr,\n",
    "        column_strategy=column_strategy\n",
    "    )[1]"
   ],
   "metadata": {
    "collapsed": false
   }
  },
  {
   "cell_type": "code",
   "execution_count": 26,
   "outputs": [
    {
     "data": {
      "text/plain": "-0.6"
     },
     "execution_count": 26,
     "metadata": {},
     "output_type": "execute_result"
    }
   ],
   "source": [
    "best_response_value_row(matrix=matrix, row_strategy=row_strategy)"
   ],
   "metadata": {
    "collapsed": false
   }
  },
  {
   "cell_type": "code",
   "execution_count": 27,
   "outputs": [
    {
     "data": {
      "text/plain": "-0.2"
     },
     "execution_count": 27,
     "metadata": {},
     "output_type": "execute_result"
    }
   ],
   "source": [
    "best_response_value_column(matrix=matrix, column_strategy=column_strategy)"
   ],
   "metadata": {
    "collapsed": false
   }
  },
  {
   "cell_type": "markdown",
   "source": [
    "# 5) Finding Dominated Actions\n",
    "\n",
    "- Given a matrix, find dominated actions of both row and column player"
   ],
   "metadata": {
    "collapsed": false
   }
  },
  {
   "cell_type": "code",
   "execution_count": 28,
   "outputs": [
    {
     "data": {
      "text/plain": "(array([[13,  1,  7],\n        [ 4,  3,  6],\n        [-1,  2,  8]]),\n array([[ 3,  4,  3],\n        [ 1,  3,  2],\n        [ 9,  8, -1]]))"
     },
     "execution_count": 28,
     "metadata": {},
     "output_type": "execute_result"
    }
   ],
   "source": [
    "A = np.array([[13, 1, 7], [4, 3, 6], [-1, 2, 8]])\n",
    "B = np.array([[3, 4, 3], [1, 3, 2], [9, 8, -1]])\n",
    "A, B"
   ],
   "metadata": {
    "collapsed": false
   }
  },
  {
   "cell_type": "code",
   "execution_count": 29,
   "outputs": [],
   "source": [
    "def find_dominated_strategies_row(matrix):\n",
    "    \"\"\" Find dominated actions of row player.\n",
    "\n",
    "    Args:\n",
    "        matrix: Utility matrix.\n",
    "\n",
    "    Returns:\n",
    "        List of dominated actions.\n",
    "\n",
    "    \"\"\"\n",
    "\n",
    "    ans = []\n",
    "    m = matrix.shape[0]\n",
    "    for i in range(m):\n",
    "        for j in range(m):\n",
    "            if i == j:\n",
    "                continue\n",
    "\n",
    "            if np.all(matrix[i, :] > matrix[j, :]):\n",
    "                ans.append(j)\n",
    "\n",
    "    return ans\n",
    "\n",
    "\n",
    "def find_dominated_strategies_column(matrix):\n",
    "    \"\"\" Find dominated actions of column player.\n",
    "\n",
    "    Args:\n",
    "        matrix: Utility matrix.\n",
    "\n",
    "    Returns:\n",
    "        List of dominated actions.\n",
    "\n",
    "    \"\"\"\n",
    "\n",
    "    return find_dominated_strategies_row(matrix.T)"
   ],
   "metadata": {
    "collapsed": false
   }
  },
  {
   "cell_type": "code",
   "execution_count": 30,
   "outputs": [
    {
     "data": {
      "text/plain": "[1]"
     },
     "execution_count": 30,
     "metadata": {},
     "output_type": "execute_result"
    }
   ],
   "source": [
    "find_dominated_strategies_row(matrix=B)"
   ],
   "metadata": {
    "collapsed": false
   }
  },
  {
   "cell_type": "markdown",
   "source": [
    "# 6) Iterated Removal of  Dominated Actions\n",
    "\n",
    "- Given a matrix, run the \"iterated removal of dominated actions\" algorithm"
   ],
   "metadata": {
    "collapsed": false
   }
  },
  {
   "cell_type": "code",
   "execution_count": 31,
   "outputs": [],
   "source": [
    "def iterated_removal_of_dominant_actions(row_matrix, column_matrix):\n",
    "    \"\"\"\n",
    "    Run the iterated removal of dominated actions algorithm.\n",
    "\n",
    "    Args:\n",
    "        row_matrix: Utility matrix of the row player.\n",
    "        column_matrix: Utility matrix of the column player.\n",
    "\n",
    "    Returns:\n",
    "        Two tuple (row_dom, col_dom) consisting of two bool vectors specifying\n",
    "        which actions are were not eliminated.\n",
    "\n",
    "    \"\"\"\n",
    "\n",
    "    m, n = row_matrix.shape\n",
    "    row_actions = np.ones(m, dtype=bool)\n",
    "    col_actions = np.ones(n, dtype=bool)\n",
    "\n",
    "    row_dom = find_dominated_strategies_row(\n",
    "        row_matrix[row_actions, :][:, col_actions]\n",
    "    )\n",
    "    col_dom = find_dominated_strategies_column(\n",
    "        column_matrix[row_actions, :][:, col_actions]\n",
    "    )\n",
    "    while len(row_dom) > 0 or len(col_dom) > 0:\n",
    "        row_actions[row_dom] = False\n",
    "        col_actions[col_dom] = False\n",
    "\n",
    "        row_dom = find_dominated_strategies_row(\n",
    "            row_matrix[row_actions, :][:, col_actions]\n",
    "        )\n",
    "        col_dom = find_dominated_strategies_column(\n",
    "            column_matrix[row_actions, :][:, col_actions]\n",
    "        )\n",
    "\n",
    "    return row_actions, col_actions\n"
   ],
   "metadata": {
    "collapsed": false
   }
  },
  {
   "cell_type": "code",
   "execution_count": 32,
   "outputs": [
    {
     "data": {
      "text/plain": "(array([False,  True, False]), array([False,  True, False]))"
     },
     "execution_count": 32,
     "metadata": {},
     "output_type": "execute_result"
    }
   ],
   "source": [
    "iterated_removal_of_dominant_actions(row_matrix=A, column_matrix=B)"
   ],
   "metadata": {
    "collapsed": false
   }
  }
 ],
 "metadata": {
  "kernelspec": {
   "display_name": "Python 3",
   "language": "python",
   "name": "python3"
  },
  "language_info": {
   "codemirror_mode": {
    "name": "ipython",
    "version": 2
   },
   "file_extension": ".py",
   "mimetype": "text/x-python",
   "name": "python",
   "nbconvert_exporter": "python",
   "pygments_lexer": "ipython2",
   "version": "2.7.6"
  }
 },
 "nbformat": 4,
 "nbformat_minor": 0
}
